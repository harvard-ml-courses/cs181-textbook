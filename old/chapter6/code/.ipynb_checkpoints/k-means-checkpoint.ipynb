{
 "cells": [
  {
   "cell_type": "code",
   "execution_count": 1,
   "metadata": {},
   "outputs": [],
   "source": [
    "import numpy as np\n",
    "\n",
    "point_list = [(np.random.randint(-3,4), np.random.randint(-3,4)) for i in range(6)]"
   ]
  },
  {
   "cell_type": "code",
   "execution_count": 2,
   "metadata": {},
   "outputs": [
    {
     "name": "stdout",
     "output_type": "stream",
     "text": [
      "╒═══════╤═════════════╤═════════════╤════════════╤════════════════╕\n",
      "│ Point │ Coordinates │ Dist. to C1 │ Dist to C2 │ Cluster Assgn. │\n",
      "╞═══════╪═════════════╪═════════════╪════════════╪════════════════╡\n",
      "│ A     │ (-3, -3)    │ n/a         │ n/a        │ n/a            │\n",
      "├───────┼─────────────┼─────────────┼────────────┼────────────────┤\n",
      "│ B     │ (-1, -3)    │ n/a         │ n/a        │ n/a            │\n",
      "├───────┼─────────────┼─────────────┼────────────┼────────────────┤\n",
      "│ C     │ (3, 0)      │ n/a         │ n/a        │ n/a            │\n",
      "├───────┼─────────────┼─────────────┼────────────┼────────────────┤\n",
      "│ D     │ (-2, -1)    │ n/a         │ n/a        │ n/a            │\n",
      "├───────┼─────────────┼─────────────┼────────────┼────────────────┤\n",
      "│ E     │ (0, 0)      │ n/a         │ n/a        │ n/a            │\n",
      "├───────┼─────────────┼─────────────┼────────────┼────────────────┤\n",
      "│ F     │ (-1, -2)    │ n/a         │ n/a        │ n/a            │\n",
      "└───────┴─────────────┴─────────────┴────────────┴────────────────┘\n"
     ]
    }
   ],
   "source": [
    "# not using\n",
    "# import tabletext\n",
    "\n",
    "# data = [\n",
    "#     ['Point','Coordinates', 'Dist. to C1', 'Dist to C2','Cluster Assgn.'],\n",
    "#     ['A', f'({point_list[0][0]}, {point_list[0][1]})', 'n/a', 'n/a', 'n/a'],\n",
    "#     ['B', f'({point_list[1][0]}, {point_list[1][1]})', 'n/a', 'n/a', 'n/a'],\n",
    "#     ['C', f'({point_list[2][0]}, {point_list[2][1]})', 'n/a', 'n/a', 'n/a'],\n",
    "#     ['D', f'({point_list[3][0]}, {point_list[3][1]})', 'n/a', 'n/a', 'n/a'],\n",
    "#     ['E', f'({point_list[4][0]}, {point_list[4][1]})', 'n/a', 'n/a', 'n/a'],\n",
    "#     ['F', f'({point_list[5][0]}, {point_list[5][1]})', 'n/a', 'n/a', 'n/a'],\n",
    "# ]\n",
    "\n",
    "# print(tabletext.to_text(data, header=True))"
   ]
  },
  {
   "cell_type": "code",
   "execution_count": 7,
   "metadata": {},
   "outputs": [
    {
     "name": "stdout",
     "output_type": "stream",
     "text": [
      "╒═══════╤═════════════╤═════════════╤════════════╤════════════════╕\n",
      "│ Point │ Coordinates │ Dist. to C1 │ Dist to C2 │ Cluster Assgn. │\n",
      "╞═══════╪═════════════╪═════════════╪════════════╪════════════════╡\n",
      "│ A     │ (-3, -3)    │ n/a         │ n/a        │ n/a            │\n",
      "├───────┼─────────────┼─────────────┼────────────┼────────────────┤\n",
      "│ B     │ (-1, -3)    │ n/a         │ n/a        │ n/a            │\n",
      "├───────┼─────────────┼─────────────┼────────────┼────────────────┤\n",
      "│ C     │ (3, 0)      │ n/a         │ n/a        │ n/a            │\n",
      "├───────┼─────────────┼─────────────┼────────────┼────────────────┤\n",
      "│ D     │ (-2, -1)    │ n/a         │ n/a        │ n/a            │\n",
      "├───────┼─────────────┼─────────────┼────────────┼────────────────┤\n",
      "│ E     │ (0, 0)      │ n/a         │ n/a        │ n/a            │\n",
      "├───────┼─────────────┼─────────────┼────────────┼────────────────┤\n",
      "│ F     │ (-1, -2)    │ n/a         │ n/a        │ n/a            │\n",
      "└───────┴─────────────┴─────────────┴────────────┴────────────────┘\n"
     ]
    }
   ],
   "source": [
    "# print(tabletext.to_text(data, header=True))"
   ]
  },
  {
   "cell_type": "code",
   "execution_count": 96,
   "metadata": {},
   "outputs": [
    {
     "data": {
      "text/html": [
       "<div>\n",
       "<style scoped>\n",
       "    .dataframe tbody tr th:only-of-type {\n",
       "        vertical-align: middle;\n",
       "    }\n",
       "\n",
       "    .dataframe tbody tr th {\n",
       "        vertical-align: top;\n",
       "    }\n",
       "\n",
       "    .dataframe thead th {\n",
       "        text-align: right;\n",
       "    }\n",
       "</style>\n",
       "<table border=\"1\" class=\"dataframe\">\n",
       "  <thead>\n",
       "    <tr style=\"text-align: right;\">\n",
       "      <th></th>\n",
       "      <th>Coordinates</th>\n",
       "      <th>Dist. to C1</th>\n",
       "      <th>Dist. to C2</th>\n",
       "      <th>Cluster Assgn.</th>\n",
       "    </tr>\n",
       "  </thead>\n",
       "  <tbody>\n",
       "    <tr>\n",
       "      <th>A</th>\n",
       "      <td>(-3, -3)</td>\n",
       "      <td>n/a</td>\n",
       "      <td>n/a</td>\n",
       "      <td>n/a</td>\n",
       "    </tr>\n",
       "    <tr>\n",
       "      <th>B</th>\n",
       "      <td>(-1, -3)</td>\n",
       "      <td>n/a</td>\n",
       "      <td>n/a</td>\n",
       "      <td>n/a</td>\n",
       "    </tr>\n",
       "    <tr>\n",
       "      <th>C</th>\n",
       "      <td>(3, 0)</td>\n",
       "      <td>n/a</td>\n",
       "      <td>n/a</td>\n",
       "      <td>n/a</td>\n",
       "    </tr>\n",
       "    <tr>\n",
       "      <th>D</th>\n",
       "      <td>(-2, -1)</td>\n",
       "      <td>n/a</td>\n",
       "      <td>n/a</td>\n",
       "      <td>n/a</td>\n",
       "    </tr>\n",
       "    <tr>\n",
       "      <th>E</th>\n",
       "      <td>(0, 0)</td>\n",
       "      <td>n/a</td>\n",
       "      <td>n/a</td>\n",
       "      <td>n/a</td>\n",
       "    </tr>\n",
       "    <tr>\n",
       "      <th>F</th>\n",
       "      <td>(-1, -2)</td>\n",
       "      <td>n/a</td>\n",
       "      <td>n/a</td>\n",
       "      <td>n/a</td>\n",
       "    </tr>\n",
       "  </tbody>\n",
       "</table>\n",
       "</div>"
      ],
      "text/plain": [
       "  Coordinates Dist. to C1 Dist. to C2 Cluster Assgn.\n",
       "A    (-3, -3)         n/a         n/a            n/a\n",
       "B    (-1, -3)         n/a         n/a            n/a\n",
       "C      (3, 0)         n/a         n/a            n/a\n",
       "D    (-2, -1)         n/a         n/a            n/a\n",
       "E      (0, 0)         n/a         n/a            n/a\n",
       "F    (-1, -2)         n/a         n/a            n/a"
      ]
     },
     "execution_count": 96,
     "metadata": {},
     "output_type": "execute_result"
    }
   ],
   "source": [
    "import pandas as pd\n",
    "from collections import OrderedDict\n",
    "\n",
    "data = [\n",
    "    ['Point','Coordinates', 'Dist. to C1', 'Dist to C2','Cluster Assgn.'],\n",
    "    ['A', f'({point_list[0][0]}, {point_list[0][1]})', 'n/a', 'n/a', 'n/a'],\n",
    "    ['B', f'({point_list[1][0]}, {point_list[1][1]})', 'n/a', 'n/a', 'n/a'],\n",
    "    ['C', f'({point_list[2][0]}, {point_list[2][1]})', 'n/a', 'n/a', 'n/a'],\n",
    "    ['D', f'({point_list[3][0]}, {point_list[3][1]})', 'n/a', 'n/a', 'n/a'],\n",
    "    ['E', f'({point_list[4][0]}, {point_list[4][1]})', 'n/a', 'n/a', 'n/a'],\n",
    "    ['F', f'({point_list[5][0]}, {point_list[5][1]})', 'n/a', 'n/a', 'n/a'],\n",
    "]\n",
    "\n",
    "dict_data = OrderedDict({\n",
    "    'Coordinates': [\n",
    "        f'({point_list[0][0]}, {point_list[0][1]})',\n",
    "        f'({point_list[1][0]}, {point_list[1][1]})',\n",
    "        f'({point_list[2][0]}, {point_list[2][1]})',\n",
    "        f'({point_list[3][0]}, {point_list[3][1]})',\n",
    "        f'({point_list[4][0]}, {point_list[4][1]})',\n",
    "        f'({point_list[5][0]}, {point_list[5][1]})',\n",
    "    ],\n",
    "    'Dist. to C1': [\n",
    "        'n/a', 'n/a', 'n/a', 'n/a', 'n/a', 'n/a'\n",
    "    ],\n",
    "    'Dist. to C2': [\n",
    "        'n/a', 'n/a', 'n/a', 'n/a', 'n/a', 'n/a'\n",
    "    ],\n",
    "    'Cluster Assgn.': [\n",
    "        'n/a', 'n/a', 'n/a', 'n/a', 'n/a', 'n/a'\n",
    "    ],\n",
    "})\n",
    "df = pd.DataFrame(dict_data, index=['A', 'B', 'C', 'D', 'E', 'F'])\n",
    "df"
   ]
  },
  {
   "cell_type": "code",
   "execution_count": 97,
   "metadata": {},
   "outputs": [
    {
     "name": "stdout",
     "output_type": "stream",
     "text": [
      "\\begin{tabular}{lllll}\n",
      "\\toprule\n",
      "{} & Coordinates & Dist. to C1 & Dist. to C2 & Cluster Assgn. \\\\\n",
      "\\midrule\n",
      "A &    (-3, -3) &         n/a &         n/a &            n/a \\\\\n",
      "B &    (-1, -3) &         n/a &         n/a &            n/a \\\\\n",
      "C &      (3, 0) &         n/a &         n/a &            n/a \\\\\n",
      "D &    (-2, -1) &         n/a &         n/a &            n/a \\\\\n",
      "E &      (0, 0) &         n/a &         n/a &            n/a \\\\\n",
      "F &    (-1, -2) &         n/a &         n/a &            n/a \\\\\n",
      "\\bottomrule\n",
      "\\end{tabular}\n",
      "\n"
     ]
    }
   ],
   "source": [
    "print(df.to_latex())"
   ]
  },
  {
   "cell_type": "code",
   "execution_count": 27,
   "metadata": {},
   "outputs": [],
   "source": [
    "import matplotlib.pyplot as plt"
   ]
  },
  {
   "cell_type": "code",
   "execution_count": 84,
   "metadata": {},
   "outputs": [
    {
     "data": {
      "image/png": "[encoded data removed]",
      "text/plain": [
       "<matplotlib.figure.Figure at 0x1127af940>"
      ]
     },
     "metadata": {},
     "output_type": "display_data"
    }
   ],
   "source": [
    "plt.scatter(*(zip(*point_list)))\n",
    "plt.xlim(-4,  4)\n",
    "plt.ylim(-4, 4)\n",
    "plt.title('Data Points')\n",
    "plt.xlabel('X1')\n",
    "plt.ylabel('X2')\n",
    "plt.axhline(0, color='black', linewidth=0.5)\n",
    "plt.axvline(0, color='black', linewidth=0.5)\n",
    "plt.grid(color='black', linestyle='-', linewidth=0.3)\n",
    "for idx, tup in enumerate(point_list):\n",
    "    plt.annotate(df.index[idx], (tup[0] + 0.1, tup[1] + 0.1))\n",
    "plt.savefig('../fig/start-points.png')\n",
    "plt.show()"
   ]
  },
  {
   "cell_type": "code",
   "execution_count": 87,
   "metadata": {},
   "outputs": [
    {
     "data": {
      "text/plain": [
       "[(-1, -3), (-1, -2)]"
      ]
     },
     "execution_count": 87,
     "metadata": {},
     "output_type": "execute_result"
    }
   ],
   "source": [
    "# modify the cluster centers\n",
    "coordinate_list = [point_list[1], point_list[-1]]; coordinate_list"
   ]
  },
  {
   "cell_type": "code",
   "execution_count": 108,
   "metadata": {},
   "outputs": [
    {
     "data": {
      "image/png": "[encoded data removed]",
      "text/plain": [
       "<matplotlib.figure.Figure at 0x11296de10>"
      ]
     },
     "metadata": {},
     "output_type": "display_data"
    }
   ],
   "source": [
    "plt.scatter(*(zip(*point_list)))\n",
    "plt.scatter(coordinate_list[0][0], coordinate_list[0][1], c='red', marker='x', s=200)\n",
    "plt.scatter(coordinate_list[1][0], coordinate_list[1][1], c='green', marker='x', s=200)\n",
    "plt.xlim(-4,  4)\n",
    "plt.ylim(-4, 4)\n",
    "plt.title('Data Points and Clusters')\n",
    "plt.xlabel('X1')\n",
    "plt.ylabel('X2')\n",
    "plt.axhline(0, color='black', linewidth=0.5)\n",
    "plt.axvline(0, color='black', linewidth=0.5)\n",
    "plt.grid(color='black', linestyle='-', linewidth=0.3)\n",
    "for idx, tup in enumerate(point_list):\n",
    "    plt.annotate(df.index[idx], (tup[0] + 0.1, tup[1] + 0.1))\n",
    "plt.savefig('../fig/start-clusters.png')\n",
    "plt.show()"
   ]
  },
  {
   "cell_type": "code",
   "execution_count": null,
   "metadata": {},
   "outputs": [],
   "source": []
  }
 ],
 "metadata": {
  "kernelspec": {
   "display_name": "Python 3",
   "language": "python",
   "name": "python3"
  },
  "language_info": {
   "codemirror_mode": {
    "name": "ipython",
    "version": 3
   },
   "file_extension": ".py",
   "mimetype": "text/x-python",
   "name": "python",
   "nbconvert_exporter": "python",
   "pygments_lexer": "ipython3",
   "version": "3.6.4"
  }
 },
 "nbformat": 4,
 "nbformat_minor": 2
}

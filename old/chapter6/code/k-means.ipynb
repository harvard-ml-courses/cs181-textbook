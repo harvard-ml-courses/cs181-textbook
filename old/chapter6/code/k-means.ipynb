{
 "cells": [
  {
   "cell_type": "code",
   "execution_count": 1,
   "metadata": {},
   "outputs": [],
   "source": [
    "import numpy as np\n",
    "\n",
    "point_list = [(np.random.randint(-3,4), np.random.randint(-3,4)) for i in range(6)]"
   ]
  },
  {
   "cell_type": "code",
   "execution_count": 2,
   "metadata": {},
   "outputs": [
    {
     "name": "stdout",
     "output_type": "stream",
     "text": [
      "╒═══════╤═════════════╤═════════════╤════════════╤════════════════╕\n",
      "│ Point │ Coordinates │ Dist. to C1 │ Dist to C2 │ Cluster Assgn. │\n",
      "╞═══════╪═════════════╪═════════════╪════════════╪════════════════╡\n",
      "│ A     │ (-3, -3)    │ n/a         │ n/a        │ n/a            │\n",
      "├───────┼─────────────┼─────────────┼────────────┼────────────────┤\n",
      "│ B     │ (-1, -3)    │ n/a         │ n/a        │ n/a            │\n",
      "├───────┼─────────────┼─────────────┼────────────┼────────────────┤\n",
      "│ C     │ (3, 0)      │ n/a         │ n/a        │ n/a            │\n",
      "├───────┼─────────────┼─────────────┼────────────┼────────────────┤\n",
      "│ D     │ (-2, -1)    │ n/a         │ n/a        │ n/a            │\n",
      "├───────┼─────────────┼─────────────┼────────────┼────────────────┤\n",
      "│ E     │ (0, 0)      │ n/a         │ n/a        │ n/a            │\n",
      "├───────┼─────────────┼─────────────┼────────────┼────────────────┤\n",
      "│ F     │ (-1, -2)    │ n/a         │ n/a        │ n/a            │\n",
      "└───────┴─────────────┴─────────────┴────────────┴────────────────┘\n"
     ]
    }
   ],
   "source": [
    "# not using\n",
    "# import tabletext\n",
    "\n",
    "# data = [\n",
    "#     ['Point','Coordinates', 'Dist. to C1', 'Dist to C2','Cluster Assgn.'],\n",
    "#     ['A', f'({point_list[0][0]}, {point_list[0][1]})', 'n/a', 'n/a', 'n/a'],\n",
    "#     ['B', f'({point_list[1][0]}, {point_list[1][1]})', 'n/a', 'n/a', 'n/a'],\n",
    "#     ['C', f'({point_list[2][0]}, {point_list[2][1]})', 'n/a', 'n/a', 'n/a'],\n",
    "#     ['D', f'({point_list[3][0]}, {point_list[3][1]})', 'n/a', 'n/a', 'n/a'],\n",
    "#     ['E', f'({point_list[4][0]}, {point_list[4][1]})', 'n/a', 'n/a', 'n/a'],\n",
    "#     ['F', f'({point_list[5][0]}, {point_list[5][1]})', 'n/a', 'n/a', 'n/a'],\n",
    "# ]\n",
    "\n",
    "# print(tabletext.to_text(data, header=True))"
   ]
  },
  {
   "cell_type": "code",
   "execution_count": 7,
   "metadata": {},
   "outputs": [
    {
     "name": "stdout",
     "output_type": "stream",
     "text": [
      "╒═══════╤═════════════╤═════════════╤════════════╤════════════════╕\n",
      "│ Point │ Coordinates │ Dist. to C1 │ Dist to C2 │ Cluster Assgn. │\n",
      "╞═══════╪═════════════╪═════════════╪════════════╪════════════════╡\n",
      "│ A     │ (-3, -3)    │ n/a         │ n/a        │ n/a            │\n",
      "├───────┼─────────────┼─────────────┼────────────┼────────────────┤\n",
      "│ B     │ (-1, -3)    │ n/a         │ n/a        │ n/a            │\n",
      "├───────┼─────────────┼─────────────┼────────────┼────────────────┤\n",
      "│ C     │ (3, 0)      │ n/a         │ n/a        │ n/a            │\n",
      "├───────┼─────────────┼─────────────┼────────────┼────────────────┤\n",
      "│ D     │ (-2, -1)    │ n/a         │ n/a        │ n/a            │\n",
      "├───────┼─────────────┼─────────────┼────────────┼────────────────┤\n",
      "│ E     │ (0, 0)      │ n/a         │ n/a        │ n/a            │\n",
      "├───────┼─────────────┼─────────────┼────────────┼────────────────┤\n",
      "│ F     │ (-1, -2)    │ n/a         │ n/a        │ n/a            │\n",
      "└───────┴─────────────┴─────────────┴────────────┴────────────────┘\n"
     ]
    }
   ],
   "source": [
    "# print(tabletext.to_text(data, header=True))"
   ]
  },
  {
   "cell_type": "code",
   "execution_count": 96,
   "metadata": {},
   "outputs": [
    {
     "data": {
      "text/html": [
       "<div>\n",
       "<style scoped>\n",
       "    .dataframe tbody tr th:only-of-type {\n",
       "        vertical-align: middle;\n",
       "    }\n",
       "\n",
       "    .dataframe tbody tr th {\n",
       "        vertical-align: top;\n",
       "    }\n",
       "\n",
       "    .dataframe thead th {\n",
       "        text-align: right;\n",
       "    }\n",
       "</style>\n",
       "<table border=\"1\" class=\"dataframe\">\n",
       "  <thead>\n",
       "    <tr style=\"text-align: right;\">\n",
       "      <th></th>\n",
       "      <th>Coordinates</th>\n",
       "      <th>Dist. to C1</th>\n",
       "      <th>Dist. to C2</th>\n",
       "      <th>Cluster Assgn.</th>\n",
       "    </tr>\n",
       "  </thead>\n",
       "  <tbody>\n",
       "    <tr>\n",
       "      <th>A</th>\n",
       "      <td>(-3, -3)</td>\n",
       "      <td>n/a</td>\n",
       "      <td>n/a</td>\n",
       "      <td>n/a</td>\n",
       "    </tr>\n",
       "    <tr>\n",
       "      <th>B</th>\n",
       "      <td>(-1, -3)</td>\n",
       "      <td>n/a</td>\n",
       "      <td>n/a</td>\n",
       "      <td>n/a</td>\n",
       "    </tr>\n",
       "    <tr>\n",
       "      <th>C</th>\n",
       "      <td>(3, 0)</td>\n",
       "      <td>n/a</td>\n",
       "      <td>n/a</td>\n",
       "      <td>n/a</td>\n",
       "    </tr>\n",
       "    <tr>\n",
       "      <th>D</th>\n",
       "      <td>(-2, -1)</td>\n",
       "      <td>n/a</td>\n",
       "      <td>n/a</td>\n",
       "      <td>n/a</td>\n",
       "    </tr>\n",
       "    <tr>\n",
       "      <th>E</th>\n",
       "      <td>(0, 0)</td>\n",
       "      <td>n/a</td>\n",
       "      <td>n/a</td>\n",
       "      <td>n/a</td>\n",
       "    </tr>\n",
       "    <tr>\n",
       "      <th>F</th>\n",
       "      <td>(-1, -2)</td>\n",
       "      <td>n/a</td>\n",
       "      <td>n/a</td>\n",
       "      <td>n/a</td>\n",
       "    </tr>\n",
       "  </tbody>\n",
       "</table>\n",
       "</div>"
      ],
      "text/plain": [
       "  Coordinates Dist. to C1 Dist. to C2 Cluster Assgn.\n",
       "A    (-3, -3)         n/a         n/a            n/a\n",
       "B    (-1, -3)         n/a         n/a            n/a\n",
       "C      (3, 0)         n/a         n/a            n/a\n",
       "D    (-2, -1)         n/a         n/a            n/a\n",
       "E      (0, 0)         n/a         n/a            n/a\n",
       "F    (-1, -2)         n/a         n/a            n/a"
      ]
     },
     "execution_count": 96,
     "metadata": {},
     "output_type": "execute_result"
    }
   ],
   "source": [
    "import pandas as pd\n",
    "from collections import OrderedDict\n",
    "\n",
    "data = [\n",
    "    ['Point','Coordinates', 'Dist. to C1', 'Dist to C2','Cluster Assgn.'],\n",
    "    ['A', f'({point_list[0][0]}, {point_list[0][1]})', 'n/a', 'n/a', 'n/a'],\n",
    "    ['B', f'({point_list[1][0]}, {point_list[1][1]})', 'n/a', 'n/a', 'n/a'],\n",
    "    ['C', f'({point_list[2][0]}, {point_list[2][1]})', 'n/a', 'n/a', 'n/a'],\n",
    "    ['D', f'({point_list[3][0]}, {point_list[3][1]})', 'n/a', 'n/a', 'n/a'],\n",
    "    ['E', f'({point_list[4][0]}, {point_list[4][1]})', 'n/a', 'n/a', 'n/a'],\n",
    "    ['F', f'({point_list[5][0]}, {point_list[5][1]})', 'n/a', 'n/a', 'n/a'],\n",
    "]\n",
    "\n",
    "dict_data = OrderedDict({\n",
    "    'Coordinates': [\n",
    "        f'({point_list[0][0]}, {point_list[0][1]})',\n",
    "        f'({point_list[1][0]}, {point_list[1][1]})',\n",
    "        f'({point_list[2][0]}, {point_list[2][1]})',\n",
    "        f'({point_list[3][0]}, {point_list[3][1]})',\n",
    "        f'({point_list[4][0]}, {point_list[4][1]})',\n",
    "        f'({point_list[5][0]}, {point_list[5][1]})',\n",
    "    ],\n",
    "    'Dist. to C1': [\n",
    "        'n/a', 'n/a', 'n/a', 'n/a', 'n/a', 'n/a'\n",
    "    ],\n",
    "    'Dist. to C2': [\n",
    "        'n/a', 'n/a', 'n/a', 'n/a', 'n/a', 'n/a'\n",
    "    ],\n",
    "    'Cluster Assgn.': [\n",
    "        'n/a', 'n/a', 'n/a', 'n/a', 'n/a', 'n/a'\n",
    "    ],\n",
    "})\n",
    "df = pd.DataFrame(dict_data, index=['A', 'B', 'C', 'D', 'E', 'F'])\n",
    "df"
   ]
  },
  {
   "cell_type": "code",
   "execution_count": 97,
   "metadata": {},
   "outputs": [
    {
     "name": "stdout",
     "output_type": "stream",
     "text": [
      "\\begin{tabular}{lllll}\n",
      "\\toprule\n",
      "{} & Coordinates & Dist. to C1 & Dist. to C2 & Cluster Assgn. \\\\\n",
      "\\midrule\n",
      "A &    (-3, -3) &         n/a &         n/a &            n/a \\\\\n",
      "B &    (-1, -3) &         n/a &         n/a &            n/a \\\\\n",
      "C &      (3, 0) &         n/a &         n/a &            n/a \\\\\n",
      "D &    (-2, -1) &         n/a &         n/a &            n/a \\\\\n",
      "E &      (0, 0) &         n/a &         n/a &            n/a \\\\\n",
      "F &    (-1, -2) &         n/a &         n/a &            n/a \\\\\n",
      "\\bottomrule\n",
      "\\end{tabular}\n",
      "\n"
     ]
    }
   ],
   "source": [
    "print(df.to_latex())"
   ]
  },
  {
   "cell_type": "code",
   "execution_count": 27,
   "metadata": {},
   "outputs": [],
   "source": [
    "import matplotlib.pyplot as plt"
   ]
  },
  {
   "cell_type": "code",
   "execution_count": 166,
   "metadata": {},
   "outputs": [
    {
     "data": {
      "image/png": "[encoded data removed]",
      "text/plain": [
       "<matplotlib.figure.Figure at 0x1055d3588>"
      ]
     },
     "metadata": {},
     "output_type": "display_data"
    }
   ],
   "source": [
    "plt.scatter(*(zip(*point_list)))\n",
    "plt.xlim(-4,  4)\n",
    "plt.ylim(-4, 4)\n",
    "plt.title('Data Points')\n",
    "plt.xlabel('X1')\n",
    "plt.ylabel('X2')\n",
    "plt.axhline(0, color='black', linewidth=0.5)\n",
    "plt.axvline(0, color='black', linewidth=0.5)\n",
    "plt.grid(color='black', linestyle='-', linewidth=0.3)\n",
    "for idx, tup in enumerate(point_list):\n",
    "    plt.annotate(df.index[idx], (tup[0] + 0.1, tup[1] + 0.1))\n",
    "plt.savefig('../fig/start-points.png')\n",
    "plt.show()"
   ]
  },
  {
   "cell_type": "code",
   "execution_count": 87,
   "metadata": {},
   "outputs": [
    {
     "data": {
      "text/plain": [
       "[(-1, -3), (-1, -2)]"
      ]
     },
     "execution_count": 87,
     "metadata": {},
     "output_type": "execute_result"
    }
   ],
   "source": [
    "# modify the cluster centers\n",
    "coordinate_list = [point_list[1], point_list[-1]]; coordinate_list"
   ]
  },
  {
   "cell_type": "code",
   "execution_count": 109,
   "metadata": {},
   "outputs": [
    {
     "data": {
      "image/png": "[encoded data removed]",
      "text/plain": [
       "<matplotlib.figure.Figure at 0x112debf60>"
      ]
     },
     "metadata": {},
     "output_type": "display_data"
    }
   ],
   "source": [
    "plt.scatter(*(zip(*point_list)))\n",
    "plt.scatter(coordinate_list[0][0], coordinate_list[0][1], c='red', marker='x', s=200)\n",
    "plt.scatter(coordinate_list[1][0], coordinate_list[1][1], c='green', marker='x', s=200)\n",
    "plt.xlim(-4,  4)\n",
    "plt.ylim(-4, 4)\n",
    "plt.title('Data Points and Clusters')\n",
    "plt.xlabel('X1')\n",
    "plt.ylabel('X2')\n",
    "plt.axhline(0, color='black', linewidth=0.5)\n",
    "plt.axvline(0, color='black', linewidth=0.5)\n",
    "plt.grid(color='black', linestyle='-', linewidth=0.3)\n",
    "for idx, tup in enumerate(point_list):\n",
    "    plt.annotate(df.index[idx], (tup[0] + 0.1, tup[1] + 0.1))\n",
    "plt.savefig('../fig/start-clusters.png')\n",
    "plt.show()"
   ]
  },
  {
   "cell_type": "code",
   "execution_count": 110,
   "metadata": {},
   "outputs": [],
   "source": [
    "def dist_bn_points(pt, anchor):\n",
    "    return np.sqrt((pt[0] - anchor[0])**2 + (pt[1] - anchor[1])**2)"
   ]
  },
  {
   "cell_type": "code",
   "execution_count": 111,
   "metadata": {},
   "outputs": [],
   "source": [
    "green_pts = list()\n",
    "red_pts = list()\n",
    "for pt in point_list:\n",
    "    if dist_bn_points(pt, coordinate_list[0]) < dist_bn_points(pt, coordinate_list[1]):\n",
    "        red_pts.append(pt)\n",
    "    else:\n",
    "        green_pts.append(pt)"
   ]
  },
  {
   "cell_type": "code",
   "execution_count": 122,
   "metadata": {},
   "outputs": [
    {
     "data": {
      "image/png": "[encoded data removed]",
      "text/plain": [
       "<matplotlib.figure.Figure at 0x112f4acf8>"
      ]
     },
     "metadata": {},
     "output_type": "display_data"
    }
   ],
   "source": [
    "plt.scatter(*(zip(*red_pts)), c='red')\n",
    "plt.scatter(*(zip(*green_pts)), c='green')\n",
    "plt.scatter(coordinate_list[0][0], coordinate_list[0][1], c='red', marker='x', s=200)\n",
    "plt.scatter(coordinate_list[1][0], coordinate_list[1][1], c='green', marker='x', s=200)\n",
    "plt.xlim(-4,  4)\n",
    "plt.ylim(-4, 4)\n",
    "plt.title('Data Points and Clusters')\n",
    "plt.xlabel('X1')\n",
    "plt.ylabel('X2')\n",
    "plt.axhline(0, color='black', linewidth=0.5)\n",
    "plt.axvline(0, color='black', linewidth=0.5)\n",
    "plt.grid(color='black', linestyle='-', linewidth=0.3)\n",
    "for idx, tup in enumerate(point_list):\n",
    "    plt.annotate(df.index[idx], (tup[0] + 0.1, tup[1] + 0.1))\n",
    "plt.savefig('../fig/assign-points.png')\n",
    "plt.show()"
   ]
  },
  {
   "cell_type": "code",
   "execution_count": 126,
   "metadata": {},
   "outputs": [],
   "source": [
    "update_df = df.copy()"
   ]
  },
  {
   "cell_type": "code",
   "execution_count": 157,
   "metadata": {},
   "outputs": [
    {
     "data": {
      "text/html": [
       "<div>\n",
       "<style scoped>\n",
       "    .dataframe tbody tr th:only-of-type {\n",
       "        vertical-align: middle;\n",
       "    }\n",
       "\n",
       "    .dataframe tbody tr th {\n",
       "        vertical-align: top;\n",
       "    }\n",
       "\n",
       "    .dataframe thead th {\n",
       "        text-align: right;\n",
       "    }\n",
       "</style>\n",
       "<table border=\"1\" class=\"dataframe\">\n",
       "  <thead>\n",
       "    <tr style=\"text-align: right;\">\n",
       "      <th></th>\n",
       "      <th>Coordinates</th>\n",
       "      <th>Dist. to C1</th>\n",
       "      <th>Dist. to C2</th>\n",
       "      <th>Cluster Assgn.</th>\n",
       "    </tr>\n",
       "  </thead>\n",
       "  <tbody>\n",
       "    <tr>\n",
       "      <th>A</th>\n",
       "      <td>(-3, -3)</td>\n",
       "      <td>1.00</td>\n",
       "      <td>0.00</td>\n",
       "      <td>Red</td>\n",
       "    </tr>\n",
       "    <tr>\n",
       "      <th>B</th>\n",
       "      <td>(-1, -3)</td>\n",
       "      <td>1.00</td>\n",
       "      <td>0.00</td>\n",
       "      <td>Red</td>\n",
       "    </tr>\n",
       "    <tr>\n",
       "      <th>C</th>\n",
       "      <td>(3, 0)</td>\n",
       "      <td>1.00</td>\n",
       "      <td>0.00</td>\n",
       "      <td>Green</td>\n",
       "    </tr>\n",
       "    <tr>\n",
       "      <th>D</th>\n",
       "      <td>(-2, -1)</td>\n",
       "      <td>1.00</td>\n",
       "      <td>0.00</td>\n",
       "      <td>Green</td>\n",
       "    </tr>\n",
       "    <tr>\n",
       "      <th>E</th>\n",
       "      <td>(0, 0)</td>\n",
       "      <td>1.00</td>\n",
       "      <td>0.00</td>\n",
       "      <td>Green</td>\n",
       "    </tr>\n",
       "    <tr>\n",
       "      <th>F</th>\n",
       "      <td>(-1, -2)</td>\n",
       "      <td>1.00</td>\n",
       "      <td>0.00</td>\n",
       "      <td>Green</td>\n",
       "    </tr>\n",
       "  </tbody>\n",
       "</table>\n",
       "</div>"
      ],
      "text/plain": [
       "  Coordinates Dist. to C1 Dist. to C2 Cluster Assgn.\n",
       "A    (-3, -3)        1.00        0.00            Red\n",
       "B    (-1, -3)        1.00        0.00            Red\n",
       "C      (3, 0)        1.00        0.00          Green\n",
       "D    (-2, -1)        1.00        0.00          Green\n",
       "E      (0, 0)        1.00        0.00          Green\n",
       "F    (-1, -2)        1.00        0.00          Green"
      ]
     },
     "execution_count": 157,
     "metadata": {},
     "output_type": "execute_result"
    }
   ],
   "source": [
    "update_df"
   ]
  },
  {
   "cell_type": "code",
   "execution_count": 162,
   "metadata": {},
   "outputs": [
    {
     "name": "stdout",
     "output_type": "stream",
     "text": [
      "2.0\n",
      "0.0\n",
      "5.0\n",
      "2.23606797749979\n",
      "3.1622776601683795\n",
      "1.0\n",
      "1.00\n"
     ]
    }
   ],
   "source": [
    "\"{0:.2f}\".format(dist_bn_points(pt, coordinate_list[0]))\n",
    "for pt in point_list:\n",
    "    foo = \"{0:.2f}\".format(dist_bn_points(pt, coordinate_list[0]))\n",
    "    print(dist_bn_points(pt, coordinate_list[0]))\n",
    "print(foo)"
   ]
  },
  {
   "cell_type": "code",
   "execution_count": 163,
   "metadata": {},
   "outputs": [],
   "source": [
    "for idx, pt in enumerate(point_list):\n",
    "    # get distances from points\n",
    "    update_df['Dist. to C1'][idx] = \"{0:.2f}\".format(dist_bn_points(pt, coordinate_list[0]))\n",
    "    update_df['Dist. to C2'][idx] = \"{0:.2f}\".format(dist_bn_points(pt, coordinate_list[1]))"
   ]
  },
  {
   "cell_type": "code",
   "execution_count": 164,
   "metadata": {},
   "outputs": [
    {
     "data": {
      "text/html": [
       "<div>\n",
       "<style scoped>\n",
       "    .dataframe tbody tr th:only-of-type {\n",
       "        vertical-align: middle;\n",
       "    }\n",
       "\n",
       "    .dataframe tbody tr th {\n",
       "        vertical-align: top;\n",
       "    }\n",
       "\n",
       "    .dataframe thead th {\n",
       "        text-align: right;\n",
       "    }\n",
       "</style>\n",
       "<table border=\"1\" class=\"dataframe\">\n",
       "  <thead>\n",
       "    <tr style=\"text-align: right;\">\n",
       "      <th></th>\n",
       "      <th>Coordinates</th>\n",
       "      <th>Dist. to C1</th>\n",
       "      <th>Dist. to C2</th>\n",
       "      <th>Cluster Assgn.</th>\n",
       "    </tr>\n",
       "  </thead>\n",
       "  <tbody>\n",
       "    <tr>\n",
       "      <th>A</th>\n",
       "      <td>(-3, -3)</td>\n",
       "      <td>2.00</td>\n",
       "      <td>2.24</td>\n",
       "      <td>Red</td>\n",
       "    </tr>\n",
       "    <tr>\n",
       "      <th>B</th>\n",
       "      <td>(-1, -3)</td>\n",
       "      <td>0.00</td>\n",
       "      <td>1.00</td>\n",
       "      <td>Red</td>\n",
       "    </tr>\n",
       "    <tr>\n",
       "      <th>C</th>\n",
       "      <td>(3, 0)</td>\n",
       "      <td>5.00</td>\n",
       "      <td>4.47</td>\n",
       "      <td>Green</td>\n",
       "    </tr>\n",
       "    <tr>\n",
       "      <th>D</th>\n",
       "      <td>(-2, -1)</td>\n",
       "      <td>2.24</td>\n",
       "      <td>1.41</td>\n",
       "      <td>Green</td>\n",
       "    </tr>\n",
       "    <tr>\n",
       "      <th>E</th>\n",
       "      <td>(0, 0)</td>\n",
       "      <td>3.16</td>\n",
       "      <td>2.24</td>\n",
       "      <td>Green</td>\n",
       "    </tr>\n",
       "    <tr>\n",
       "      <th>F</th>\n",
       "      <td>(-1, -2)</td>\n",
       "      <td>1.00</td>\n",
       "      <td>0.00</td>\n",
       "      <td>Green</td>\n",
       "    </tr>\n",
       "  </tbody>\n",
       "</table>\n",
       "</div>"
      ],
      "text/plain": [
       "  Coordinates Dist. to C1 Dist. to C2 Cluster Assgn.\n",
       "A    (-3, -3)        2.00        2.24            Red\n",
       "B    (-1, -3)        0.00        1.00            Red\n",
       "C      (3, 0)        5.00        4.47          Green\n",
       "D    (-2, -1)        2.24        1.41          Green\n",
       "E      (0, 0)        3.16        2.24          Green\n",
       "F    (-1, -2)        1.00        0.00          Green"
      ]
     },
     "execution_count": 164,
     "metadata": {},
     "output_type": "execute_result"
    }
   ],
   "source": [
    "update_df['Cluster Assgn.'][0] = 'Red'\n",
    "update_df['Cluster Assgn.'][1] = 'Red'\n",
    "update_df['Cluster Assgn.'][2] = 'Green'\n",
    "update_df['Cluster Assgn.'][3] = 'Green'\n",
    "update_df['Cluster Assgn.'][4] = 'Green'\n",
    "update_df['Cluster Assgn.'][5] = 'Green'\n",
    "update_df"
   ]
  },
  {
   "cell_type": "code",
   "execution_count": 165,
   "metadata": {},
   "outputs": [
    {
     "name": "stdout",
     "output_type": "stream",
     "text": [
      "\\begin{tabular}{lllll}\n",
      "\\toprule\n",
      "{} & Coordinates & Dist. to C1 & Dist. to C2 & Cluster Assgn. \\\\\n",
      "\\midrule\n",
      "A &    (-3, -3) &        2.00 &        2.24 &            Red \\\\\n",
      "B &    (-1, -3) &        0.00 &        1.00 &            Red \\\\\n",
      "C &      (3, 0) &        5.00 &        4.47 &          Green \\\\\n",
      "D &    (-2, -1) &        2.24 &        1.41 &          Green \\\\\n",
      "E &      (0, 0) &        3.16 &        2.24 &          Green \\\\\n",
      "F &    (-1, -2) &        1.00 &        0.00 &          Green \\\\\n",
      "\\bottomrule\n",
      "\\end{tabular}\n",
      "\n"
     ]
    }
   ],
   "source": [
    "print(update_df.to_latex())"
   ]
  },
  {
   "cell_type": "code",
   "execution_count": 115,
   "metadata": {},
   "outputs": [],
   "source": [
    "def update_cluster_centers(pt_lst):\n",
    "    xs = 0\n",
    "    ys = 0\n",
    "    num_pts = len(pt_lst)\n",
    "    for pt in pt_lst:\n",
    "        xs += pt[0]\n",
    "        ys += pt[1]\n",
    "    return (xs / num_pts, ys / num_pts)"
   ]
  },
  {
   "cell_type": "code",
   "execution_count": 123,
   "metadata": {},
   "outputs": [],
   "source": [
    "coordinate_list[0] = update_cluster_centers(red_pts)\n",
    "coordinate_list[1] = update_cluster_centers(green_pts)"
   ]
  },
  {
   "cell_type": "code",
   "execution_count": 125,
   "metadata": {},
   "outputs": [
    {
     "data": {
      "image/png": "[encoded data removed]",
      "text/plain": [
       "<matplotlib.figure.Figure at 0x109059b70>"
      ]
     },
     "metadata": {},
     "output_type": "display_data"
    }
   ],
   "source": [
    "plt.scatter(*(zip(*red_pts)), c='red')\n",
    "plt.scatter(*(zip(*green_pts)), c='green')\n",
    "plt.scatter(coordinate_list[0][0], coordinate_list[0][1], c='red', marker='x', s=200)\n",
    "plt.scatter(coordinate_list[1][0], coordinate_list[1][1], c='green', marker='x', s=200)\n",
    "plt.xlim(-4,  4)\n",
    "plt.ylim(-4, 4)\n",
    "plt.title('Data Points and Clusters')\n",
    "plt.xlabel('X1')\n",
    "plt.ylabel('X2')\n",
    "plt.axhline(0, color='black', linewidth=0.5)\n",
    "plt.axvline(0, color='black', linewidth=0.5)\n",
    "plt.grid(color='black', linestyle='-', linewidth=0.3)\n",
    "for idx, tup in enumerate(point_list):\n",
    "    plt.annotate(df.index[idx], (tup[0] + 0.1, tup[1] + 0.1))\n",
    "plt.savefig('../fig/update-clusters.png')\n",
    "plt.show()"
   ]
  },
  {
   "cell_type": "code",
   "execution_count": 167,
   "metadata": {},
   "outputs": [
    {
     "data": {
      "text/plain": [
       "[(-3, -3), (-1, -3), (3, 0), (-2, -1), (0, 0), (-1, -2)]"
      ]
     },
     "execution_count": 167,
     "metadata": {},
     "output_type": "execute_result"
    }
   ],
   "source": [
    "point_list"
   ]
  },
  {
   "cell_type": "code",
   "execution_count": 168,
   "metadata": {},
   "outputs": [],
   "source": [
    "coordinate_list[0] = (-1.75, -2.25)\n",
    "coordinate_list[1] = (1.5 ,  0.)"
   ]
  },
  {
   "cell_type": "code",
   "execution_count": 169,
   "metadata": {},
   "outputs": [],
   "source": [
    "green_pts = list()\n",
    "red_pts = list()\n",
    "for pt in point_list:\n",
    "    if dist_bn_points(pt, coordinate_list[0]) < dist_bn_points(pt, coordinate_list[1]):\n",
    "        red_pts.append(pt)\n",
    "    else:\n",
    "        green_pts.append(pt)"
   ]
  },
  {
   "cell_type": "code",
   "execution_count": 170,
   "metadata": {},
   "outputs": [
    {
     "data": {
      "image/png": "[encoded data removed]",
      "text/plain": [
       "<matplotlib.figure.Figure at 0x11264ac50>"
      ]
     },
     "metadata": {},
     "output_type": "display_data"
    }
   ],
   "source": [
    "plt.scatter(*(zip(*red_pts)), c='red')\n",
    "plt.scatter(*(zip(*green_pts)), c='green')\n",
    "plt.scatter(coordinate_list[0][0], coordinate_list[0][1], c='red', marker='x', s=200)\n",
    "plt.scatter(coordinate_list[1][0], coordinate_list[1][1], c='green', marker='x', s=200)\n",
    "plt.xlim(-4,  4)\n",
    "plt.ylim(-4, 4)\n",
    "plt.title('Data Points and Clusters')\n",
    "plt.xlabel('X1')\n",
    "plt.ylabel('X2')\n",
    "plt.axhline(0, color='black', linewidth=0.5)\n",
    "plt.axvline(0, color='black', linewidth=0.5)\n",
    "plt.grid(color='black', linestyle='-', linewidth=0.3)\n",
    "for idx, tup in enumerate(point_list):\n",
    "    plt.annotate(df.index[idx], (tup[0] + 0.1, tup[1] + 0.1))\n",
    "plt.savefig('../fig/final-points-and-clusters.png')\n",
    "plt.show()"
   ]
  },
  {
   "cell_type": "code",
   "execution_count": 171,
   "metadata": {},
   "outputs": [],
   "source": [
    "update_df_2 = update_df.copy()"
   ]
  },
  {
   "cell_type": "code",
   "execution_count": 172,
   "metadata": {},
   "outputs": [],
   "source": [
    "for idx, pt in enumerate(point_list):\n",
    "    # get distances from points\n",
    "    update_df_2['Dist. to C1'][idx] = \"{0:.2f}\".format(dist_bn_points(pt, coordinate_list[0]))\n",
    "    update_df_2['Dist. to C2'][idx] = \"{0:.2f}\".format(dist_bn_points(pt, coordinate_list[1]))"
   ]
  },
  {
   "cell_type": "code",
   "execution_count": 173,
   "metadata": {},
   "outputs": [
    {
     "data": {
      "text/html": [
       "<div>\n",
       "<style scoped>\n",
       "    .dataframe tbody tr th:only-of-type {\n",
       "        vertical-align: middle;\n",
       "    }\n",
       "\n",
       "    .dataframe tbody tr th {\n",
       "        vertical-align: top;\n",
       "    }\n",
       "\n",
       "    .dataframe thead th {\n",
       "        text-align: right;\n",
       "    }\n",
       "</style>\n",
       "<table border=\"1\" class=\"dataframe\">\n",
       "  <thead>\n",
       "    <tr style=\"text-align: right;\">\n",
       "      <th></th>\n",
       "      <th>Coordinates</th>\n",
       "      <th>Dist. to C1</th>\n",
       "      <th>Dist. to C2</th>\n",
       "      <th>Cluster Assgn.</th>\n",
       "    </tr>\n",
       "  </thead>\n",
       "  <tbody>\n",
       "    <tr>\n",
       "      <th>A</th>\n",
       "      <td>(-3, -3)</td>\n",
       "      <td>1.46</td>\n",
       "      <td>5.41</td>\n",
       "      <td>Red</td>\n",
       "    </tr>\n",
       "    <tr>\n",
       "      <th>B</th>\n",
       "      <td>(-1, -3)</td>\n",
       "      <td>1.06</td>\n",
       "      <td>3.91</td>\n",
       "      <td>Red</td>\n",
       "    </tr>\n",
       "    <tr>\n",
       "      <th>C</th>\n",
       "      <td>(3, 0)</td>\n",
       "      <td>5.26</td>\n",
       "      <td>1.50</td>\n",
       "      <td>Green</td>\n",
       "    </tr>\n",
       "    <tr>\n",
       "      <th>D</th>\n",
       "      <td>(-2, -1)</td>\n",
       "      <td>1.27</td>\n",
       "      <td>3.64</td>\n",
       "      <td>Red</td>\n",
       "    </tr>\n",
       "    <tr>\n",
       "      <th>E</th>\n",
       "      <td>(0, 0)</td>\n",
       "      <td>2.85</td>\n",
       "      <td>1.50</td>\n",
       "      <td>Green</td>\n",
       "    </tr>\n",
       "    <tr>\n",
       "      <th>F</th>\n",
       "      <td>(-1, -2)</td>\n",
       "      <td>0.79</td>\n",
       "      <td>3.20</td>\n",
       "      <td>Red</td>\n",
       "    </tr>\n",
       "  </tbody>\n",
       "</table>\n",
       "</div>"
      ],
      "text/plain": [
       "  Coordinates Dist. to C1 Dist. to C2 Cluster Assgn.\n",
       "A    (-3, -3)        1.46        5.41            Red\n",
       "B    (-1, -3)        1.06        3.91            Red\n",
       "C      (3, 0)        5.26        1.50          Green\n",
       "D    (-2, -1)        1.27        3.64            Red\n",
       "E      (0, 0)        2.85        1.50          Green\n",
       "F    (-1, -2)        0.79        3.20            Red"
      ]
     },
     "execution_count": 173,
     "metadata": {},
     "output_type": "execute_result"
    }
   ],
   "source": [
    "update_df_2['Cluster Assgn.'][0] = 'Red'\n",
    "update_df_2['Cluster Assgn.'][1] = 'Red'\n",
    "update_df_2['Cluster Assgn.'][2] = 'Green'\n",
    "update_df_2['Cluster Assgn.'][3] = 'Red'\n",
    "update_df_2['Cluster Assgn.'][4] = 'Green'\n",
    "update_df_2['Cluster Assgn.'][5] = 'Red'\n",
    "update_df_2"
   ]
  },
  {
   "cell_type": "code",
   "execution_count": 174,
   "metadata": {},
   "outputs": [
    {
     "name": "stdout",
     "output_type": "stream",
     "text": [
      "\\begin{tabular}{lllll}\n",
      "\\toprule\n",
      "{} & Coordinates & Dist. to C1 & Dist. to C2 & Cluster Assgn. \\\\\n",
      "\\midrule\n",
      "A &    (-3, -3) &        1.46 &        5.41 &            Red \\\\\n",
      "B &    (-1, -3) &        1.06 &        3.91 &            Red \\\\\n",
      "C &      (3, 0) &        5.26 &        1.50 &          Green \\\\\n",
      "D &    (-2, -1) &        1.27 &        3.64 &            Red \\\\\n",
      "E &      (0, 0) &        2.85 &        1.50 &          Green \\\\\n",
      "F &    (-1, -2) &        0.79 &        3.20 &            Red \\\\\n",
      "\\bottomrule\n",
      "\\end{tabular}\n",
      "\n"
     ]
    }
   ],
   "source": [
    "print(update_df_2.to_latex())"
   ]
  },
  {
   "cell_type": "code",
   "execution_count": null,
   "metadata": {},
   "outputs": [],
   "source": []
  }
 ],
 "metadata": {
  "kernelspec": {
   "display_name": "Python 3",
   "language": "python",
   "name": "python3"
  },
  "language_info": {
   "codemirror_mode": {
    "name": "ipython",
    "version": 3
   },
   "file_extension": ".py",
   "mimetype": "text/x-python",
   "name": "python",
   "nbconvert_exporter": "python",
   "pygments_lexer": "ipython3",
   "version": "3.6.4"
  }
 },
 "nbformat": 4,
 "nbformat_minor": 2
}
